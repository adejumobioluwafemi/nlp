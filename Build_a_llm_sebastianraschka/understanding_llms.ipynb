{
 "cells": [
  {
   "cell_type": "markdown",
   "id": "cd8dc9f9",
   "metadata": {},
   "source": [
    "# Understanding large language models"
   ]
  },
  {
   "cell_type": "markdown",
   "id": "0171a8a7",
   "metadata": {},
   "source": [
    "## What is an LLM?\n",
    "\n",
    "An LLM is a neural network designd to understand, generate, and respond to human-like text.\n",
    "\n",
    "`large` ==> referes to both  the model's size in terms of parameter and the immense dataset on which it's trained.\n",
    "\n",
    "Models like this often have tens or even hundreds of billions of parameters, which are the\n",
    "adjustable weights in the network that are optimized during training to predict the next word in a sequence.\n",
    "\n",
    "LLMs utilize an architecture called the `transformer`, which\n",
    "allows them `to pay selective attention to different parts of\n",
    "the input when making predictions`, making them especially\n",
    "adept at handling the nuances and complexities of human\n",
    "language.\n",
    "\n",
    "\n",
    "While the field of AI is now dominated by machine learning\n",
    "and deep learning, it also includes other approaches—for\n",
    "example, `using rule-based systems`, `genetic algorithms`,\n",
    "`expert systems`, `fuzzy logic`, or `symbolic reasoning`.\n",
    "\n",
    "\n",
    "In contrast to traditional machine\n",
    "learning, `deep learning does not require manual feature\n",
    "extraction`.\n",
    "\n",
    "## Applications of LLMs\n",
    "LLMs are employed for `machine translation`, `generation of novel texts`, `sentiment analysis`, `text summarization`,\n",
    "and many other tasks.\n",
    "\n",
    "LLMs have recently been used for\n",
    "content creation, such as writing fiction, articles, and even\n",
    "computer code.\n",
    "\n",
    "\n"
   ]
  },
  {
   "cell_type": "markdown",
   "id": "50366b33",
   "metadata": {},
   "source": []
  }
 ],
 "metadata": {
  "kernelspec": {
   "display_name": ".venv",
   "language": "python",
   "name": "python3"
  },
  "language_info": {
   "name": "python",
   "version": "3.12.7"
  }
 },
 "nbformat": 4,
 "nbformat_minor": 5
}
